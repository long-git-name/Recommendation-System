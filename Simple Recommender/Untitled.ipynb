{
 "cells": [
  {
   "cell_type": "code",
   "execution_count": null,
   "id": "d05f8960",
   "metadata": {},
   "outputs": [],
   "source": [
    "#đề xuất dựa trên xếp hạng đánh giá"
   ]
  },
  {
   "cell_type": "code",
   "execution_count": 1,
   "id": "f2dde3c1",
   "metadata": {},
   "outputs": [],
   "source": [
    "import pandas as pd\n",
    "import numpy as np"
   ]
  },
  {
   "cell_type": "code",
   "execution_count": 2,
   "id": "b8f610a2",
   "metadata": {},
   "outputs": [],
   "source": [
    "movies = pd.read_csv('movies_data.csv')"
   ]
  },
  {
   "cell_type": "code",
   "execution_count": 3,
   "id": "cacc7965",
   "metadata": {},
   "outputs": [],
   "source": [
    "credits = pd.read_csv('credits.csv')\n",
    "keywords = pd.read_csv('keywords.csv')"
   ]
  },
  {
   "cell_type": "code",
   "execution_count": 4,
   "id": "7aa74e6c",
   "metadata": {},
   "outputs": [
    {
     "data": {
      "text/html": [
       "<div>\n",
       "<style scoped>\n",
       "    .dataframe tbody tr th:only-of-type {\n",
       "        vertical-align: middle;\n",
       "    }\n",
       "\n",
       "    .dataframe tbody tr th {\n",
       "        vertical-align: top;\n",
       "    }\n",
       "\n",
       "    .dataframe thead th {\n",
       "        text-align: right;\n",
       "    }\n",
       "</style>\n",
       "<table border=\"1\" class=\"dataframe\">\n",
       "  <thead>\n",
       "    <tr style=\"text-align: right;\">\n",
       "      <th></th>\n",
       "      <th>Unnamed: 0</th>\n",
       "      <th>adult</th>\n",
       "      <th>belongs_to_collection</th>\n",
       "      <th>budget</th>\n",
       "      <th>genres</th>\n",
       "      <th>homepage</th>\n",
       "      <th>id</th>\n",
       "      <th>imdb_id</th>\n",
       "      <th>original_language</th>\n",
       "      <th>original_title</th>\n",
       "      <th>...</th>\n",
       "      <th>release_date</th>\n",
       "      <th>revenue</th>\n",
       "      <th>runtime</th>\n",
       "      <th>spoken_languages</th>\n",
       "      <th>status</th>\n",
       "      <th>tagline</th>\n",
       "      <th>title</th>\n",
       "      <th>video</th>\n",
       "      <th>vote_average</th>\n",
       "      <th>vote_count</th>\n",
       "    </tr>\n",
       "  </thead>\n",
       "  <tbody>\n",
       "    <tr>\n",
       "      <th>0</th>\n",
       "      <td>0</td>\n",
       "      <td>False</td>\n",
       "      <td>{'id': 10194, 'name': 'Toy Story Collection', ...</td>\n",
       "      <td>30000000</td>\n",
       "      <td>[{'id': 16, 'name': 'Animation'}, {'id': 35, '...</td>\n",
       "      <td>http://toystory.disney.com/toy-story</td>\n",
       "      <td>862</td>\n",
       "      <td>tt0114709</td>\n",
       "      <td>en</td>\n",
       "      <td>Toy Story</td>\n",
       "      <td>...</td>\n",
       "      <td>1995-10-30</td>\n",
       "      <td>373554033.0</td>\n",
       "      <td>81.0</td>\n",
       "      <td>[{'iso_639_1': 'en', 'name': 'English'}]</td>\n",
       "      <td>Released</td>\n",
       "      <td>NaN</td>\n",
       "      <td>Toy Story</td>\n",
       "      <td>False</td>\n",
       "      <td>7.7</td>\n",
       "      <td>5415.0</td>\n",
       "    </tr>\n",
       "    <tr>\n",
       "      <th>1</th>\n",
       "      <td>1</td>\n",
       "      <td>False</td>\n",
       "      <td>NaN</td>\n",
       "      <td>65000000</td>\n",
       "      <td>[{'id': 12, 'name': 'Adventure'}, {'id': 14, '...</td>\n",
       "      <td>NaN</td>\n",
       "      <td>8844</td>\n",
       "      <td>tt0113497</td>\n",
       "      <td>en</td>\n",
       "      <td>Jumanji</td>\n",
       "      <td>...</td>\n",
       "      <td>1995-12-15</td>\n",
       "      <td>262797249.0</td>\n",
       "      <td>104.0</td>\n",
       "      <td>[{'iso_639_1': 'en', 'name': 'English'}, {'iso...</td>\n",
       "      <td>Released</td>\n",
       "      <td>Roll the dice and unleash the excitement!</td>\n",
       "      <td>Jumanji</td>\n",
       "      <td>False</td>\n",
       "      <td>6.9</td>\n",
       "      <td>2413.0</td>\n",
       "    </tr>\n",
       "    <tr>\n",
       "      <th>2</th>\n",
       "      <td>2</td>\n",
       "      <td>False</td>\n",
       "      <td>{'id': 119050, 'name': 'Grumpy Old Men Collect...</td>\n",
       "      <td>0</td>\n",
       "      <td>[{'id': 10749, 'name': 'Romance'}, {'id': 35, ...</td>\n",
       "      <td>NaN</td>\n",
       "      <td>15602</td>\n",
       "      <td>tt0113228</td>\n",
       "      <td>en</td>\n",
       "      <td>Grumpier Old Men</td>\n",
       "      <td>...</td>\n",
       "      <td>1995-12-22</td>\n",
       "      <td>0.0</td>\n",
       "      <td>101.0</td>\n",
       "      <td>[{'iso_639_1': 'en', 'name': 'English'}]</td>\n",
       "      <td>Released</td>\n",
       "      <td>Still Yelling. Still Fighting. Still Ready for...</td>\n",
       "      <td>Grumpier Old Men</td>\n",
       "      <td>False</td>\n",
       "      <td>6.5</td>\n",
       "      <td>92.0</td>\n",
       "    </tr>\n",
       "  </tbody>\n",
       "</table>\n",
       "<p>3 rows × 25 columns</p>\n",
       "</div>"
      ],
      "text/plain": [
       "   Unnamed: 0  adult                              belongs_to_collection  \\\n",
       "0           0  False  {'id': 10194, 'name': 'Toy Story Collection', ...   \n",
       "1           1  False                                                NaN   \n",
       "2           2  False  {'id': 119050, 'name': 'Grumpy Old Men Collect...   \n",
       "\n",
       "     budget                                             genres  \\\n",
       "0  30000000  [{'id': 16, 'name': 'Animation'}, {'id': 35, '...   \n",
       "1  65000000  [{'id': 12, 'name': 'Adventure'}, {'id': 14, '...   \n",
       "2         0  [{'id': 10749, 'name': 'Romance'}, {'id': 35, ...   \n",
       "\n",
       "                               homepage     id    imdb_id original_language  \\\n",
       "0  http://toystory.disney.com/toy-story    862  tt0114709                en   \n",
       "1                                   NaN   8844  tt0113497                en   \n",
       "2                                   NaN  15602  tt0113228                en   \n",
       "\n",
       "     original_title  ... release_date      revenue runtime  \\\n",
       "0         Toy Story  ...   1995-10-30  373554033.0    81.0   \n",
       "1           Jumanji  ...   1995-12-15  262797249.0   104.0   \n",
       "2  Grumpier Old Men  ...   1995-12-22          0.0   101.0   \n",
       "\n",
       "                                    spoken_languages    status  \\\n",
       "0           [{'iso_639_1': 'en', 'name': 'English'}]  Released   \n",
       "1  [{'iso_639_1': 'en', 'name': 'English'}, {'iso...  Released   \n",
       "2           [{'iso_639_1': 'en', 'name': 'English'}]  Released   \n",
       "\n",
       "                                             tagline             title  video  \\\n",
       "0                                                NaN         Toy Story  False   \n",
       "1          Roll the dice and unleash the excitement!           Jumanji  False   \n",
       "2  Still Yelling. Still Fighting. Still Ready for...  Grumpier Old Men  False   \n",
       "\n",
       "  vote_average vote_count  \n",
       "0          7.7     5415.0  \n",
       "1          6.9     2413.0  \n",
       "2          6.5       92.0  \n",
       "\n",
       "[3 rows x 25 columns]"
      ]
     },
     "execution_count": 4,
     "metadata": {},
     "output_type": "execute_result"
    }
   ],
   "source": [
    "movies.head(3)"
   ]
  },
  {
   "cell_type": "code",
   "execution_count": 5,
   "id": "191ec972",
   "metadata": {},
   "outputs": [],
   "source": [
    "q_movies = movies[['title','vote_average','vote_count']]"
   ]
  },
  {
   "cell_type": "code",
   "execution_count": 6,
   "id": "f11fd605",
   "metadata": {},
   "outputs": [
    {
     "data": {
      "text/html": [
       "<div>\n",
       "<style scoped>\n",
       "    .dataframe tbody tr th:only-of-type {\n",
       "        vertical-align: middle;\n",
       "    }\n",
       "\n",
       "    .dataframe tbody tr th {\n",
       "        vertical-align: top;\n",
       "    }\n",
       "\n",
       "    .dataframe thead th {\n",
       "        text-align: right;\n",
       "    }\n",
       "</style>\n",
       "<table border=\"1\" class=\"dataframe\">\n",
       "  <thead>\n",
       "    <tr style=\"text-align: right;\">\n",
       "      <th></th>\n",
       "      <th>title</th>\n",
       "      <th>vote_average</th>\n",
       "      <th>vote_count</th>\n",
       "    </tr>\n",
       "  </thead>\n",
       "  <tbody>\n",
       "    <tr>\n",
       "      <th>0</th>\n",
       "      <td>Toy Story</td>\n",
       "      <td>7.7</td>\n",
       "      <td>5415.0</td>\n",
       "    </tr>\n",
       "    <tr>\n",
       "      <th>1</th>\n",
       "      <td>Jumanji</td>\n",
       "      <td>6.9</td>\n",
       "      <td>2413.0</td>\n",
       "    </tr>\n",
       "    <tr>\n",
       "      <th>2</th>\n",
       "      <td>Grumpier Old Men</td>\n",
       "      <td>6.5</td>\n",
       "      <td>92.0</td>\n",
       "    </tr>\n",
       "  </tbody>\n",
       "</table>\n",
       "</div>"
      ],
      "text/plain": [
       "              title  vote_average  vote_count\n",
       "0         Toy Story           7.7      5415.0\n",
       "1           Jumanji           6.9      2413.0\n",
       "2  Grumpier Old Men           6.5        92.0"
      ]
     },
     "execution_count": 6,
     "metadata": {},
     "output_type": "execute_result"
    }
   ],
   "source": [
    "q_movies.head(3)"
   ]
  },
  {
   "cell_type": "code",
   "execution_count": 7,
   "id": "65fe9f37",
   "metadata": {},
   "outputs": [
    {
     "name": "stdout",
     "output_type": "stream",
     "text": [
      "6.052116666666665\n"
     ]
    }
   ],
   "source": [
    "C = q_movies['vote_average'].mean()\n",
    "\n",
    "print(C)"
   ]
  },
  {
   "cell_type": "code",
   "execution_count": 8,
   "id": "b679be5e",
   "metadata": {},
   "outputs": [
    {
     "name": "stdout",
     "output_type": "stream",
     "text": [
      "521.0\n"
     ]
    }
   ],
   "source": [
    "m = q_movies['vote_count'].quantile(0.90)\n",
    "print(m)"
   ]
  },
  {
   "cell_type": "code",
   "execution_count": 9,
   "id": "3afd96ae",
   "metadata": {},
   "outputs": [],
   "source": [
    "q_movies = q_movies.copy().loc[q_movies['vote_count'] >= m]"
   ]
  },
  {
   "cell_type": "code",
   "execution_count": 10,
   "id": "30474912",
   "metadata": {},
   "outputs": [
    {
     "data": {
      "text/plain": [
       "(601, 3)"
      ]
     },
     "execution_count": 10,
     "metadata": {},
     "output_type": "execute_result"
    }
   ],
   "source": [
    "q_movies.shape"
   ]
  },
  {
   "cell_type": "code",
   "execution_count": 11,
   "id": "509e4c04",
   "metadata": {},
   "outputs": [
    {
     "data": {
      "text/html": [
       "<div>\n",
       "<style scoped>\n",
       "    .dataframe tbody tr th:only-of-type {\n",
       "        vertical-align: middle;\n",
       "    }\n",
       "\n",
       "    .dataframe tbody tr th {\n",
       "        vertical-align: top;\n",
       "    }\n",
       "\n",
       "    .dataframe thead th {\n",
       "        text-align: right;\n",
       "    }\n",
       "</style>\n",
       "<table border=\"1\" class=\"dataframe\">\n",
       "  <thead>\n",
       "    <tr style=\"text-align: right;\">\n",
       "      <th></th>\n",
       "      <th>title</th>\n",
       "      <th>vote_average</th>\n",
       "      <th>vote_count</th>\n",
       "    </tr>\n",
       "  </thead>\n",
       "  <tbody>\n",
       "    <tr>\n",
       "      <th>0</th>\n",
       "      <td>Toy Story</td>\n",
       "      <td>7.7</td>\n",
       "      <td>5415.0</td>\n",
       "    </tr>\n",
       "    <tr>\n",
       "      <th>1</th>\n",
       "      <td>Jumanji</td>\n",
       "      <td>6.9</td>\n",
       "      <td>2413.0</td>\n",
       "    </tr>\n",
       "    <tr>\n",
       "      <th>5</th>\n",
       "      <td>Heat</td>\n",
       "      <td>7.7</td>\n",
       "      <td>1886.0</td>\n",
       "    </tr>\n",
       "    <tr>\n",
       "      <th>9</th>\n",
       "      <td>GoldenEye</td>\n",
       "      <td>6.6</td>\n",
       "      <td>1194.0</td>\n",
       "    </tr>\n",
       "    <tr>\n",
       "      <th>15</th>\n",
       "      <td>Casino</td>\n",
       "      <td>7.8</td>\n",
       "      <td>1343.0</td>\n",
       "    </tr>\n",
       "  </tbody>\n",
       "</table>\n",
       "</div>"
      ],
      "text/plain": [
       "        title  vote_average  vote_count\n",
       "0   Toy Story           7.7      5415.0\n",
       "1     Jumanji           6.9      2413.0\n",
       "5        Heat           7.7      1886.0\n",
       "9   GoldenEye           6.6      1194.0\n",
       "15     Casino           7.8      1343.0"
      ]
     },
     "execution_count": 11,
     "metadata": {},
     "output_type": "execute_result"
    }
   ],
   "source": [
    "q_movies.head()"
   ]
  },
  {
   "cell_type": "code",
   "execution_count": 12,
   "id": "ad984a76",
   "metadata": {},
   "outputs": [],
   "source": [
    "def weighted_rating(movies, m=m, C=C):\n",
    "    v = movies['vote_count']\n",
    "    R = movies['vote_average']\n",
    "    \n",
    "    return (v/(v+m) * R) + (m/(m+v) * C)"
   ]
  },
  {
   "cell_type": "code",
   "execution_count": 13,
   "id": "701c78bc",
   "metadata": {},
   "outputs": [],
   "source": [
    "q_movies['score'] = q_movies.apply(weighted_rating, axis=1)"
   ]
  },
  {
   "cell_type": "code",
   "execution_count": 14,
   "id": "2d6db5ac",
   "metadata": {},
   "outputs": [
    {
     "data": {
      "text/html": [
       "<div>\n",
       "<style scoped>\n",
       "    .dataframe tbody tr th:only-of-type {\n",
       "        vertical-align: middle;\n",
       "    }\n",
       "\n",
       "    .dataframe tbody tr th {\n",
       "        vertical-align: top;\n",
       "    }\n",
       "\n",
       "    .dataframe thead th {\n",
       "        text-align: right;\n",
       "    }\n",
       "</style>\n",
       "<table border=\"1\" class=\"dataframe\">\n",
       "  <thead>\n",
       "    <tr style=\"text-align: right;\">\n",
       "      <th></th>\n",
       "      <th>title</th>\n",
       "      <th>vote_average</th>\n",
       "      <th>vote_count</th>\n",
       "      <th>score</th>\n",
       "    </tr>\n",
       "  </thead>\n",
       "  <tbody>\n",
       "    <tr>\n",
       "      <th>0</th>\n",
       "      <td>Toy Story</td>\n",
       "      <td>7.7</td>\n",
       "      <td>5415.0</td>\n",
       "      <td>7.555366</td>\n",
       "    </tr>\n",
       "    <tr>\n",
       "      <th>1</th>\n",
       "      <td>Jumanji</td>\n",
       "      <td>6.9</td>\n",
       "      <td>2413.0</td>\n",
       "      <td>6.749439</td>\n",
       "    </tr>\n",
       "    <tr>\n",
       "      <th>5</th>\n",
       "      <td>Heat</td>\n",
       "      <td>7.7</td>\n",
       "      <td>1886.0</td>\n",
       "      <td>7.343312</td>\n",
       "    </tr>\n",
       "    <tr>\n",
       "      <th>9</th>\n",
       "      <td>GoldenEye</td>\n",
       "      <td>6.6</td>\n",
       "      <td>1194.0</td>\n",
       "      <td>6.433558</td>\n",
       "    </tr>\n",
       "    <tr>\n",
       "      <th>15</th>\n",
       "      <td>Casino</td>\n",
       "      <td>7.8</td>\n",
       "      <td>1343.0</td>\n",
       "      <td>7.311455</td>\n",
       "    </tr>\n",
       "  </tbody>\n",
       "</table>\n",
       "</div>"
      ],
      "text/plain": [
       "        title  vote_average  vote_count     score\n",
       "0   Toy Story           7.7      5415.0  7.555366\n",
       "1     Jumanji           6.9      2413.0  6.749439\n",
       "5        Heat           7.7      1886.0  7.343312\n",
       "9   GoldenEye           6.6      1194.0  6.433558\n",
       "15     Casino           7.8      1343.0  7.311455"
      ]
     },
     "execution_count": 14,
     "metadata": {},
     "output_type": "execute_result"
    }
   ],
   "source": [
    "q_movies.head()"
   ]
  },
  {
   "cell_type": "code",
   "execution_count": 15,
   "id": "2b5c8ec4",
   "metadata": {},
   "outputs": [],
   "source": [
    "q_movies = q_movies.sort_values('score',ascending=False)"
   ]
  },
  {
   "cell_type": "code",
   "execution_count": 16,
   "id": "fcfa7fba",
   "metadata": {},
   "outputs": [
    {
     "data": {
      "text/html": [
       "<div>\n",
       "<style scoped>\n",
       "    .dataframe tbody tr th:only-of-type {\n",
       "        vertical-align: middle;\n",
       "    }\n",
       "\n",
       "    .dataframe tbody tr th {\n",
       "        vertical-align: top;\n",
       "    }\n",
       "\n",
       "    .dataframe thead th {\n",
       "        text-align: right;\n",
       "    }\n",
       "</style>\n",
       "<table border=\"1\" class=\"dataframe\">\n",
       "  <thead>\n",
       "    <tr style=\"text-align: right;\">\n",
       "      <th></th>\n",
       "      <th>title</th>\n",
       "      <th>vote_average</th>\n",
       "      <th>vote_count</th>\n",
       "      <th>score</th>\n",
       "    </tr>\n",
       "  </thead>\n",
       "  <tbody>\n",
       "    <tr>\n",
       "      <th>314</th>\n",
       "      <td>The Shawshank Redemption</td>\n",
       "      <td>8.5</td>\n",
       "      <td>8358.0</td>\n",
       "      <td>8.356364</td>\n",
       "    </tr>\n",
       "    <tr>\n",
       "      <th>834</th>\n",
       "      <td>The Godfather</td>\n",
       "      <td>8.5</td>\n",
       "      <td>6024.0</td>\n",
       "      <td>8.305142</td>\n",
       "    </tr>\n",
       "    <tr>\n",
       "      <th>2843</th>\n",
       "      <td>Fight Club</td>\n",
       "      <td>8.3</td>\n",
       "      <td>9678.0</td>\n",
       "      <td>8.185170</td>\n",
       "    </tr>\n",
       "    <tr>\n",
       "      <th>292</th>\n",
       "      <td>Pulp Fiction</td>\n",
       "      <td>8.3</td>\n",
       "      <td>8670.0</td>\n",
       "      <td>8.172577</td>\n",
       "    </tr>\n",
       "    <tr>\n",
       "      <th>351</th>\n",
       "      <td>Forrest Gump</td>\n",
       "      <td>8.2</td>\n",
       "      <td>8147.0</td>\n",
       "      <td>8.070899</td>\n",
       "    </tr>\n",
       "    <tr>\n",
       "      <th>522</th>\n",
       "      <td>Schindler's List</td>\n",
       "      <td>8.3</td>\n",
       "      <td>4436.0</td>\n",
       "      <td>8.063739</td>\n",
       "    </tr>\n",
       "    <tr>\n",
       "      <th>5481</th>\n",
       "      <td>Spirited Away</td>\n",
       "      <td>8.3</td>\n",
       "      <td>3968.0</td>\n",
       "      <td>8.039107</td>\n",
       "    </tr>\n",
       "    <tr>\n",
       "      <th>1154</th>\n",
       "      <td>The Empire Strikes Back</td>\n",
       "      <td>8.2</td>\n",
       "      <td>5998.0</td>\n",
       "      <td>8.028341</td>\n",
       "    </tr>\n",
       "    <tr>\n",
       "      <th>2211</th>\n",
       "      <td>Life Is Beautiful</td>\n",
       "      <td>8.3</td>\n",
       "      <td>3643.0</td>\n",
       "      <td>8.018745</td>\n",
       "    </tr>\n",
       "    <tr>\n",
       "      <th>1178</th>\n",
       "      <td>The Godfather: Part II</td>\n",
       "      <td>8.3</td>\n",
       "      <td>3418.0</td>\n",
       "      <td>8.002679</td>\n",
       "    </tr>\n",
       "    <tr>\n",
       "      <th>289</th>\n",
       "      <td>Leon: The Professional</td>\n",
       "      <td>8.2</td>\n",
       "      <td>4293.0</td>\n",
       "      <td>7.967543</td>\n",
       "    </tr>\n",
       "    <tr>\n",
       "      <th>1152</th>\n",
       "      <td>One Flew Over the Cuckoo's Nest</td>\n",
       "      <td>8.3</td>\n",
       "      <td>3001.0</td>\n",
       "      <td>7.967477</td>\n",
       "    </tr>\n",
       "    <tr>\n",
       "      <th>3030</th>\n",
       "      <td>The Green Mile</td>\n",
       "      <td>8.2</td>\n",
       "      <td>4166.0</td>\n",
       "      <td>7.961244</td>\n",
       "    </tr>\n",
       "    <tr>\n",
       "      <th>256</th>\n",
       "      <td>Star Wars</td>\n",
       "      <td>8.1</td>\n",
       "      <td>6778.0</td>\n",
       "      <td>7.953823</td>\n",
       "    </tr>\n",
       "    <tr>\n",
       "      <th>46</th>\n",
       "      <td>Se7en</td>\n",
       "      <td>8.1</td>\n",
       "      <td>5915.0</td>\n",
       "      <td>7.934222</td>\n",
       "    </tr>\n",
       "    <tr>\n",
       "      <th>1170</th>\n",
       "      <td>GoodFellas</td>\n",
       "      <td>8.2</td>\n",
       "      <td>3211.0</td>\n",
       "      <td>7.900148</td>\n",
       "    </tr>\n",
       "    <tr>\n",
       "      <th>1176</th>\n",
       "      <td>Psycho</td>\n",
       "      <td>8.3</td>\n",
       "      <td>2405.0</td>\n",
       "      <td>7.899745</td>\n",
       "    </tr>\n",
       "    <tr>\n",
       "      <th>2216</th>\n",
       "      <td>American History X</td>\n",
       "      <td>8.2</td>\n",
       "      <td>3120.0</td>\n",
       "      <td>7.892654</td>\n",
       "    </tr>\n",
       "    <tr>\n",
       "      <th>4863</th>\n",
       "      <td>The Lord of the Rings: The Fellowship of the Ring</td>\n",
       "      <td>8.0</td>\n",
       "      <td>8892.0</td>\n",
       "      <td>7.892187</td>\n",
       "    </tr>\n",
       "    <tr>\n",
       "      <th>586</th>\n",
       "      <td>The Silence of the Lambs</td>\n",
       "      <td>8.1</td>\n",
       "      <td>4549.0</td>\n",
       "      <td>7.889557</td>\n",
       "    </tr>\n",
       "  </tbody>\n",
       "</table>\n",
       "</div>"
      ],
      "text/plain": [
       "                                                  title  vote_average  \\\n",
       "314                            The Shawshank Redemption           8.5   \n",
       "834                                       The Godfather           8.5   \n",
       "2843                                         Fight Club           8.3   \n",
       "292                                        Pulp Fiction           8.3   \n",
       "351                                        Forrest Gump           8.2   \n",
       "522                                    Schindler's List           8.3   \n",
       "5481                                      Spirited Away           8.3   \n",
       "1154                            The Empire Strikes Back           8.2   \n",
       "2211                                  Life Is Beautiful           8.3   \n",
       "1178                             The Godfather: Part II           8.3   \n",
       "289                              Leon: The Professional           8.2   \n",
       "1152                    One Flew Over the Cuckoo's Nest           8.3   \n",
       "3030                                     The Green Mile           8.2   \n",
       "256                                           Star Wars           8.1   \n",
       "46                                                Se7en           8.1   \n",
       "1170                                         GoodFellas           8.2   \n",
       "1176                                             Psycho           8.3   \n",
       "2216                                 American History X           8.2   \n",
       "4863  The Lord of the Rings: The Fellowship of the Ring           8.0   \n",
       "586                            The Silence of the Lambs           8.1   \n",
       "\n",
       "      vote_count     score  \n",
       "314       8358.0  8.356364  \n",
       "834       6024.0  8.305142  \n",
       "2843      9678.0  8.185170  \n",
       "292       8670.0  8.172577  \n",
       "351       8147.0  8.070899  \n",
       "522       4436.0  8.063739  \n",
       "5481      3968.0  8.039107  \n",
       "1154      5998.0  8.028341  \n",
       "2211      3643.0  8.018745  \n",
       "1178      3418.0  8.002679  \n",
       "289       4293.0  7.967543  \n",
       "1152      3001.0  7.967477  \n",
       "3030      4166.0  7.961244  \n",
       "256       6778.0  7.953823  \n",
       "46        5915.0  7.934222  \n",
       "1170      3211.0  7.900148  \n",
       "1176      2405.0  7.899745  \n",
       "2216      3120.0  7.892654  \n",
       "4863      8892.0  7.892187  \n",
       "586       4549.0  7.889557  "
      ]
     },
     "execution_count": 16,
     "metadata": {},
     "output_type": "execute_result"
    }
   ],
   "source": [
    "q_movies.head(20)"
   ]
  },
  {
   "cell_type": "code",
   "execution_count": null,
   "id": "972350a8",
   "metadata": {},
   "outputs": [],
   "source": [
    "#Content-Based Recommendation System"
   ]
  },
  {
   "cell_type": "code",
   "execution_count": 17,
   "id": "2b147df0",
   "metadata": {},
   "outputs": [
    {
     "data": {
      "text/plain": [
       "(6000, 25)"
      ]
     },
     "execution_count": 17,
     "metadata": {},
     "output_type": "execute_result"
    }
   ],
   "source": [
    "movies.shape"
   ]
  },
  {
   "cell_type": "code",
   "execution_count": 19,
   "id": "10a3717e",
   "metadata": {},
   "outputs": [],
   "source": [
    "keywords['id'] = keywords['id'].astype('int')\n",
    "credits['id'] = credits['id'].astype('int')\n",
    "movies['id'] = movies['id'].astype('int')"
   ]
  },
  {
   "cell_type": "code",
   "execution_count": 20,
   "id": "926d8add",
   "metadata": {},
   "outputs": [],
   "source": [
    "movies = movies.merge(credits, on='id')\n",
    "movies = movies.merge(keywords, on='id')"
   ]
  },
  {
   "cell_type": "code",
   "execution_count": 21,
   "id": "62f36ba0",
   "metadata": {},
   "outputs": [
    {
     "data": {
      "text/html": [
       "<div>\n",
       "<style scoped>\n",
       "    .dataframe tbody tr th:only-of-type {\n",
       "        vertical-align: middle;\n",
       "    }\n",
       "\n",
       "    .dataframe tbody tr th {\n",
       "        vertical-align: top;\n",
       "    }\n",
       "\n",
       "    .dataframe thead th {\n",
       "        text-align: right;\n",
       "    }\n",
       "</style>\n",
       "<table border=\"1\" class=\"dataframe\">\n",
       "  <thead>\n",
       "    <tr style=\"text-align: right;\">\n",
       "      <th></th>\n",
       "      <th>Unnamed: 0_x</th>\n",
       "      <th>adult</th>\n",
       "      <th>belongs_to_collection</th>\n",
       "      <th>budget</th>\n",
       "      <th>genres</th>\n",
       "      <th>homepage</th>\n",
       "      <th>id</th>\n",
       "      <th>imdb_id</th>\n",
       "      <th>original_language</th>\n",
       "      <th>original_title</th>\n",
       "      <th>...</th>\n",
       "      <th>tagline</th>\n",
       "      <th>title</th>\n",
       "      <th>video</th>\n",
       "      <th>vote_average</th>\n",
       "      <th>vote_count</th>\n",
       "      <th>Unnamed: 0_y</th>\n",
       "      <th>cast</th>\n",
       "      <th>crew</th>\n",
       "      <th>Unnamed: 0</th>\n",
       "      <th>keywords</th>\n",
       "    </tr>\n",
       "  </thead>\n",
       "  <tbody>\n",
       "    <tr>\n",
       "      <th>0</th>\n",
       "      <td>0</td>\n",
       "      <td>False</td>\n",
       "      <td>{'id': 10194, 'name': 'Toy Story Collection', ...</td>\n",
       "      <td>30000000</td>\n",
       "      <td>[{'id': 16, 'name': 'Animation'}, {'id': 35, '...</td>\n",
       "      <td>http://toystory.disney.com/toy-story</td>\n",
       "      <td>862</td>\n",
       "      <td>tt0114709</td>\n",
       "      <td>en</td>\n",
       "      <td>Toy Story</td>\n",
       "      <td>...</td>\n",
       "      <td>NaN</td>\n",
       "      <td>Toy Story</td>\n",
       "      <td>False</td>\n",
       "      <td>7.7</td>\n",
       "      <td>5415.0</td>\n",
       "      <td>0</td>\n",
       "      <td>['Tom Hanks', 'Tim Allen', 'Don Rickles']</td>\n",
       "      <td>John Lasseter</td>\n",
       "      <td>0</td>\n",
       "      <td>[{'id': 931, 'name': 'jealousy'}, {'id': 4290,...</td>\n",
       "    </tr>\n",
       "  </tbody>\n",
       "</table>\n",
       "<p>1 rows × 30 columns</p>\n",
       "</div>"
      ],
      "text/plain": [
       "   Unnamed: 0_x  adult                              belongs_to_collection  \\\n",
       "0             0  False  {'id': 10194, 'name': 'Toy Story Collection', ...   \n",
       "\n",
       "     budget                                             genres  \\\n",
       "0  30000000  [{'id': 16, 'name': 'Animation'}, {'id': 35, '...   \n",
       "\n",
       "                               homepage   id    imdb_id original_language  \\\n",
       "0  http://toystory.disney.com/toy-story  862  tt0114709                en   \n",
       "\n",
       "  original_title  ... tagline      title  video vote_average vote_count  \\\n",
       "0      Toy Story  ...     NaN  Toy Story  False          7.7     5415.0   \n",
       "\n",
       "  Unnamed: 0_y                                       cast           crew  \\\n",
       "0            0  ['Tom Hanks', 'Tim Allen', 'Don Rickles']  John Lasseter   \n",
       "\n",
       "  Unnamed: 0                                           keywords  \n",
       "0          0  [{'id': 931, 'name': 'jealousy'}, {'id': 4290,...  \n",
       "\n",
       "[1 rows x 30 columns]"
      ]
     },
     "execution_count": 21,
     "metadata": {},
     "output_type": "execute_result"
    }
   ],
   "source": [
    "movies.head(1)"
   ]
  },
  {
   "cell_type": "code",
   "execution_count": 22,
   "id": "89f2db3b",
   "metadata": {},
   "outputs": [],
   "source": [
    "df_movies = movies[['id','overview','title']]"
   ]
  },
  {
   "cell_type": "code",
   "execution_count": 23,
   "id": "f23fcad5",
   "metadata": {},
   "outputs": [
    {
     "data": {
      "text/html": [
       "<div>\n",
       "<style scoped>\n",
       "    .dataframe tbody tr th:only-of-type {\n",
       "        vertical-align: middle;\n",
       "    }\n",
       "\n",
       "    .dataframe tbody tr th {\n",
       "        vertical-align: top;\n",
       "    }\n",
       "\n",
       "    .dataframe thead th {\n",
       "        text-align: right;\n",
       "    }\n",
       "</style>\n",
       "<table border=\"1\" class=\"dataframe\">\n",
       "  <thead>\n",
       "    <tr style=\"text-align: right;\">\n",
       "      <th></th>\n",
       "      <th>id</th>\n",
       "      <th>overview</th>\n",
       "      <th>title</th>\n",
       "    </tr>\n",
       "  </thead>\n",
       "  <tbody>\n",
       "    <tr>\n",
       "      <th>0</th>\n",
       "      <td>862</td>\n",
       "      <td>Led by Woody, Andy's toys live happily in his ...</td>\n",
       "      <td>Toy Story</td>\n",
       "    </tr>\n",
       "    <tr>\n",
       "      <th>1</th>\n",
       "      <td>8844</td>\n",
       "      <td>When siblings Judy and Peter discover an encha...</td>\n",
       "      <td>Jumanji</td>\n",
       "    </tr>\n",
       "    <tr>\n",
       "      <th>2</th>\n",
       "      <td>15602</td>\n",
       "      <td>A family wedding reignites the ancient feud be...</td>\n",
       "      <td>Grumpier Old Men</td>\n",
       "    </tr>\n",
       "    <tr>\n",
       "      <th>3</th>\n",
       "      <td>31357</td>\n",
       "      <td>Cheated on, mistreated and stepped on, the wom...</td>\n",
       "      <td>Waiting to Exhale</td>\n",
       "    </tr>\n",
       "    <tr>\n",
       "      <th>4</th>\n",
       "      <td>11862</td>\n",
       "      <td>Just when George Banks has recovered from his ...</td>\n",
       "      <td>Father of the Bride Part II</td>\n",
       "    </tr>\n",
       "    <tr>\n",
       "      <th>5</th>\n",
       "      <td>949</td>\n",
       "      <td>Obsessive master thief, Neil McCauley leads a ...</td>\n",
       "      <td>Heat</td>\n",
       "    </tr>\n",
       "    <tr>\n",
       "      <th>6</th>\n",
       "      <td>11860</td>\n",
       "      <td>An ugly duckling having undergone a remarkable...</td>\n",
       "      <td>Sabrina</td>\n",
       "    </tr>\n",
       "    <tr>\n",
       "      <th>7</th>\n",
       "      <td>45325</td>\n",
       "      <td>A mischievous young boy, Tom Sawyer, witnesses...</td>\n",
       "      <td>Tom and Huck</td>\n",
       "    </tr>\n",
       "    <tr>\n",
       "      <th>8</th>\n",
       "      <td>9091</td>\n",
       "      <td>International action superstar Jean Claude Van...</td>\n",
       "      <td>Sudden Death</td>\n",
       "    </tr>\n",
       "    <tr>\n",
       "      <th>9</th>\n",
       "      <td>710</td>\n",
       "      <td>James Bond must unmask the mysterious head of ...</td>\n",
       "      <td>GoldenEye</td>\n",
       "    </tr>\n",
       "  </tbody>\n",
       "</table>\n",
       "</div>"
      ],
      "text/plain": [
       "      id                                           overview  \\\n",
       "0    862  Led by Woody, Andy's toys live happily in his ...   \n",
       "1   8844  When siblings Judy and Peter discover an encha...   \n",
       "2  15602  A family wedding reignites the ancient feud be...   \n",
       "3  31357  Cheated on, mistreated and stepped on, the wom...   \n",
       "4  11862  Just when George Banks has recovered from his ...   \n",
       "5    949  Obsessive master thief, Neil McCauley leads a ...   \n",
       "6  11860  An ugly duckling having undergone a remarkable...   \n",
       "7  45325  A mischievous young boy, Tom Sawyer, witnesses...   \n",
       "8   9091  International action superstar Jean Claude Van...   \n",
       "9    710  James Bond must unmask the mysterious head of ...   \n",
       "\n",
       "                         title  \n",
       "0                    Toy Story  \n",
       "1                      Jumanji  \n",
       "2             Grumpier Old Men  \n",
       "3            Waiting to Exhale  \n",
       "4  Father of the Bride Part II  \n",
       "5                         Heat  \n",
       "6                      Sabrina  \n",
       "7                 Tom and Huck  \n",
       "8                 Sudden Death  \n",
       "9                    GoldenEye  "
      ]
     },
     "execution_count": 23,
     "metadata": {},
     "output_type": "execute_result"
    }
   ],
   "source": [
    "df_movies.head(10)"
   ]
  },
  {
   "cell_type": "code",
   "execution_count": 24,
   "id": "ae74c5cd",
   "metadata": {},
   "outputs": [
    {
     "data": {
      "text/plain": [
       "(6006, 3)"
      ]
     },
     "execution_count": 24,
     "metadata": {},
     "output_type": "execute_result"
    }
   ],
   "source": [
    "df_movies.shape"
   ]
  },
  {
   "cell_type": "code",
   "execution_count": 25,
   "id": "1bdb05b6",
   "metadata": {},
   "outputs": [],
   "source": [
    "from sklearn.feature_extraction.text import TfidfVectorizer\n",
    "\n",
    "tfidf = TfidfVectorizer(stop_words='english')"
   ]
  },
  {
   "cell_type": "code",
   "execution_count": 26,
   "id": "7dba7077",
   "metadata": {},
   "outputs": [
    {
     "name": "stderr",
     "output_type": "stream",
     "text": [
      "<ipython-input-26-0c411d008874>:1: SettingWithCopyWarning: \n",
      "A value is trying to be set on a copy of a slice from a DataFrame.\n",
      "Try using .loc[row_indexer,col_indexer] = value instead\n",
      "\n",
      "See the caveats in the documentation: https://pandas.pydata.org/pandas-docs/stable/user_guide/indexing.html#returning-a-view-versus-a-copy\n",
      "  df_movies['overview'] = df_movies['overview'].fillna('')\n"
     ]
    }
   ],
   "source": [
    "df_movies['overview'] = df_movies['overview'].fillna('')"
   ]
  },
  {
   "cell_type": "code",
   "execution_count": 27,
   "id": "2a0a1ea0",
   "metadata": {},
   "outputs": [],
   "source": [
    "tfidf_matrix = tfidf.fit_transform(df_movies['overview'])"
   ]
  },
  {
   "cell_type": "code",
   "execution_count": 28,
   "id": "5e5265f9",
   "metadata": {},
   "outputs": [
    {
     "data": {
      "text/plain": [
       "(6006, 24564)"
      ]
     },
     "execution_count": 28,
     "metadata": {},
     "output_type": "execute_result"
    }
   ],
   "source": [
    "tfidf_matrix.shape"
   ]
  },
  {
   "cell_type": "code",
   "execution_count": 29,
   "id": "e12950db",
   "metadata": {},
   "outputs": [],
   "source": [
    "from sklearn.metrics.pairwise import linear_kernel\n",
    "\n",
    "cosine_sim = linear_kernel(tfidf_matrix, tfidf_matrix)"
   ]
  },
  {
   "cell_type": "code",
   "execution_count": 30,
   "id": "fa13d85d",
   "metadata": {},
   "outputs": [
    {
     "data": {
      "text/plain": [
       "array([1.        , 0.01750878, 0.        , ..., 0.        , 0.        ,\n",
       "       0.        ])"
      ]
     },
     "execution_count": 30,
     "metadata": {},
     "output_type": "execute_result"
    }
   ],
   "source": [
    "cosine_sim[0]"
   ]
  },
  {
   "cell_type": "code",
   "execution_count": 31,
   "id": "5dfca8fc",
   "metadata": {},
   "outputs": [],
   "source": [
    "def get_recommendation(movie):\n",
    "    movie_index = df_movies[df_movies['title'] == movie].index[0]\n",
    "    distances = cosine_sim[movie_index]\n",
    "    movies_list = sorted(list(enumerate(distances)),reverse=True,key=lambda x:x[1])[1:11]\n",
    "    \n",
    "    for i in movies_list:\n",
    "        print(i[0], df_movies.iloc[i[0]].title)"
   ]
  },
  {
   "cell_type": "code",
   "execution_count": 32,
   "id": "3d87066e",
   "metadata": {},
   "outputs": [
    {
     "name": "stdout",
     "output_type": "stream",
     "text": [
      "181 Nadja\n",
      "3911 Dracula 2000\n",
      "1298 Dracula\n",
      "5518 Horror of Dracula\n",
      "451 Fresh\n",
      "5361 Nosferatu the Vampyre\n",
      "5126 Blade II\n",
      "5573 Without Warning\n",
      "2064 Blade\n",
      "1679 Tainted\n"
     ]
    }
   ],
   "source": [
    "get_recommendation('Dracula: Dead and Loving It')"
   ]
  },
  {
   "cell_type": "code",
   "execution_count": 33,
   "id": "5392819a",
   "metadata": {},
   "outputs": [
    {
     "name": "stdout",
     "output_type": "stream",
     "text": [
      "5011 Wendigo\n",
      "933 It's a Wonderful Life\n",
      "5577 All Night Long\n",
      "5755 Another You\n",
      "1522 George of the Jungle\n",
      "4118 Blow\n",
      "555 Killer\n",
      "5825 Two Weeks Notice\n",
      "2829 Niagara\n",
      "2906 Creepshow\n"
     ]
    }
   ],
   "source": [
    "get_recommendation('Father of the Bride Part II')"
   ]
  },
  {
   "cell_type": "code",
   "execution_count": null,
   "id": "22d32475",
   "metadata": {},
   "outputs": [],
   "source": []
  },
  {
   "cell_type": "code",
   "execution_count": null,
   "id": "30458d97",
   "metadata": {},
   "outputs": [],
   "source": []
  },
  {
   "cell_type": "code",
   "execution_count": null,
   "id": "73b7fb15",
   "metadata": {},
   "outputs": [],
   "source": []
  },
  {
   "cell_type": "code",
   "execution_count": null,
   "id": "1dcf6027",
   "metadata": {},
   "outputs": [],
   "source": []
  },
  {
   "cell_type": "code",
   "execution_count": null,
   "id": "bcfdfcb9",
   "metadata": {},
   "outputs": [],
   "source": [
    "#keywords,cast,crew,genres - recommender"
   ]
  },
  {
   "cell_type": "code",
   "execution_count": null,
   "id": "58b86a98",
   "metadata": {},
   "outputs": [],
   "source": []
  },
  {
   "cell_type": "code",
   "execution_count": 34,
   "id": "479341b1",
   "metadata": {},
   "outputs": [],
   "source": [
    "new_movies = movies[['genres','id','title','cast','crew','keywords']]"
   ]
  },
  {
   "cell_type": "code",
   "execution_count": 35,
   "id": "0c39ee24",
   "metadata": {},
   "outputs": [
    {
     "data": {
      "text/html": [
       "<div>\n",
       "<style scoped>\n",
       "    .dataframe tbody tr th:only-of-type {\n",
       "        vertical-align: middle;\n",
       "    }\n",
       "\n",
       "    .dataframe tbody tr th {\n",
       "        vertical-align: top;\n",
       "    }\n",
       "\n",
       "    .dataframe thead th {\n",
       "        text-align: right;\n",
       "    }\n",
       "</style>\n",
       "<table border=\"1\" class=\"dataframe\">\n",
       "  <thead>\n",
       "    <tr style=\"text-align: right;\">\n",
       "      <th></th>\n",
       "      <th>genres</th>\n",
       "      <th>id</th>\n",
       "      <th>title</th>\n",
       "      <th>cast</th>\n",
       "      <th>crew</th>\n",
       "      <th>keywords</th>\n",
       "    </tr>\n",
       "  </thead>\n",
       "  <tbody>\n",
       "    <tr>\n",
       "      <th>0</th>\n",
       "      <td>[{'id': 16, 'name': 'Animation'}, {'id': 35, '...</td>\n",
       "      <td>862</td>\n",
       "      <td>Toy Story</td>\n",
       "      <td>['Tom Hanks', 'Tim Allen', 'Don Rickles']</td>\n",
       "      <td>John Lasseter</td>\n",
       "      <td>[{'id': 931, 'name': 'jealousy'}, {'id': 4290,...</td>\n",
       "    </tr>\n",
       "  </tbody>\n",
       "</table>\n",
       "</div>"
      ],
      "text/plain": [
       "                                              genres   id      title  \\\n",
       "0  [{'id': 16, 'name': 'Animation'}, {'id': 35, '...  862  Toy Story   \n",
       "\n",
       "                                        cast           crew  \\\n",
       "0  ['Tom Hanks', 'Tim Allen', 'Don Rickles']  John Lasseter   \n",
       "\n",
       "                                            keywords  \n",
       "0  [{'id': 931, 'name': 'jealousy'}, {'id': 4290,...  "
      ]
     },
     "execution_count": 35,
     "metadata": {},
     "output_type": "execute_result"
    }
   ],
   "source": [
    "new_movies.head(1)"
   ]
  },
  {
   "cell_type": "code",
   "execution_count": 37,
   "id": "c3327af9",
   "metadata": {},
   "outputs": [
    {
     "name": "stderr",
     "output_type": "stream",
     "text": [
      "<ipython-input-37-b8271de28cec>:5: SettingWithCopyWarning: \n",
      "A value is trying to be set on a copy of a slice from a DataFrame.\n",
      "Try using .loc[row_indexer,col_indexer] = value instead\n",
      "\n",
      "See the caveats in the documentation: https://pandas.pydata.org/pandas-docs/stable/user_guide/indexing.html#returning-a-view-versus-a-copy\n",
      "  new_movies[feature] = new_movies[feature].apply(literal_eval)\n"
     ]
    }
   ],
   "source": [
    "from ast import literal_eval\n",
    "\n",
    "features = ['keywords', 'genres']\n",
    "for feature in features:\n",
    "    new_movies[feature] = new_movies[feature].apply(literal_eval)"
   ]
  },
  {
   "cell_type": "code",
   "execution_count": 38,
   "id": "b16c9e57",
   "metadata": {},
   "outputs": [
    {
     "data": {
      "text/plain": [
       "(6006, 6)"
      ]
     },
     "execution_count": 38,
     "metadata": {},
     "output_type": "execute_result"
    }
   ],
   "source": [
    "new_movies.shape"
   ]
  },
  {
   "cell_type": "code",
   "execution_count": 39,
   "id": "ad35a36b",
   "metadata": {},
   "outputs": [],
   "source": [
    "def get_list(obj):\n",
    "    if isinstance(obj, list):\n",
    "        names = [i['name'] for i in obj]\n",
    "        \n",
    "        if len(names) > 3:\n",
    "            names = names[:3]\n",
    "        return names\n",
    "\n",
    "    return []"
   ]
  },
  {
   "cell_type": "code",
   "execution_count": 40,
   "id": "c6d7aed4",
   "metadata": {},
   "outputs": [
    {
     "name": "stderr",
     "output_type": "stream",
     "text": [
      "<ipython-input-40-92abfdc47e40>:4: SettingWithCopyWarning: \n",
      "A value is trying to be set on a copy of a slice from a DataFrame.\n",
      "Try using .loc[row_indexer,col_indexer] = value instead\n",
      "\n",
      "See the caveats in the documentation: https://pandas.pydata.org/pandas-docs/stable/user_guide/indexing.html#returning-a-view-versus-a-copy\n",
      "  new_movies[i] = new_movies[i].apply(get_list)\n"
     ]
    }
   ],
   "source": [
    "features = ['genres','keywords']\n",
    "\n",
    "for i in features:\n",
    "    new_movies[i] = new_movies[i].apply(get_list)"
   ]
  },
  {
   "cell_type": "code",
   "execution_count": 41,
   "id": "7aca05a4",
   "metadata": {},
   "outputs": [
    {
     "data": {
      "text/html": [
       "<div>\n",
       "<style scoped>\n",
       "    .dataframe tbody tr th:only-of-type {\n",
       "        vertical-align: middle;\n",
       "    }\n",
       "\n",
       "    .dataframe tbody tr th {\n",
       "        vertical-align: top;\n",
       "    }\n",
       "\n",
       "    .dataframe thead th {\n",
       "        text-align: right;\n",
       "    }\n",
       "</style>\n",
       "<table border=\"1\" class=\"dataframe\">\n",
       "  <thead>\n",
       "    <tr style=\"text-align: right;\">\n",
       "      <th></th>\n",
       "      <th>genres</th>\n",
       "      <th>id</th>\n",
       "      <th>title</th>\n",
       "      <th>cast</th>\n",
       "      <th>crew</th>\n",
       "      <th>keywords</th>\n",
       "    </tr>\n",
       "  </thead>\n",
       "  <tbody>\n",
       "    <tr>\n",
       "      <th>0</th>\n",
       "      <td>[Animation, Comedy, Family]</td>\n",
       "      <td>862</td>\n",
       "      <td>Toy Story</td>\n",
       "      <td>[Tom Hanks, Tim Allen, Don Rickles]</td>\n",
       "      <td>John Lasseter</td>\n",
       "      <td>[jealousy, toy, boy]</td>\n",
       "    </tr>\n",
       "  </tbody>\n",
       "</table>\n",
       "</div>"
      ],
      "text/plain": [
       "                        genres   id      title  \\\n",
       "0  [Animation, Comedy, Family]  862  Toy Story   \n",
       "\n",
       "                                  cast           crew              keywords  \n",
       "0  [Tom Hanks, Tim Allen, Don Rickles]  John Lasseter  [jealousy, toy, boy]  "
      ]
     },
     "execution_count": 41,
     "metadata": {},
     "output_type": "execute_result"
    }
   ],
   "source": [
    "new_movies.head(1)"
   ]
  },
  {
   "cell_type": "code",
   "execution_count": 46,
   "id": "a170ecc7",
   "metadata": {},
   "outputs": [],
   "source": [
    "\n",
    "def clean_data(obj):\n",
    "    if isinstance(obj, list):\n",
    "        return [str.lower(i.replace(\" \", \"\")) for i in obj]\n",
    "    else:\n",
    "        \n",
    "        if isinstance(obj, str):\n",
    "            return str.lower(obj.replace(\" \", \"\"))\n",
    "        else:\n",
    "            return ''"
   ]
  },
  {
   "cell_type": "code",
   "execution_count": 47,
   "id": "21ea2882",
   "metadata": {},
   "outputs": [],
   "source": [
    "features = ['cast', 'keywords', 'crew', 'genres']\n",
    "\n",
    "for feature in features:\n",
    "    new_movies[feature] = new_movies[feature].apply(clean_data)"
   ]
  },
  {
   "cell_type": "code",
   "execution_count": 48,
   "id": "8b1d6566",
   "metadata": {},
   "outputs": [
    {
     "data": {
      "text/html": [
       "<div>\n",
       "<style scoped>\n",
       "    .dataframe tbody tr th:only-of-type {\n",
       "        vertical-align: middle;\n",
       "    }\n",
       "\n",
       "    .dataframe tbody tr th {\n",
       "        vertical-align: top;\n",
       "    }\n",
       "\n",
       "    .dataframe thead th {\n",
       "        text-align: right;\n",
       "    }\n",
       "</style>\n",
       "<table border=\"1\" class=\"dataframe\">\n",
       "  <thead>\n",
       "    <tr style=\"text-align: right;\">\n",
       "      <th></th>\n",
       "      <th>genres</th>\n",
       "      <th>id</th>\n",
       "      <th>title</th>\n",
       "      <th>cast</th>\n",
       "      <th>crew</th>\n",
       "      <th>keywords</th>\n",
       "    </tr>\n",
       "  </thead>\n",
       "  <tbody>\n",
       "    <tr>\n",
       "      <th>0</th>\n",
       "      <td>[animation, comedy, family]</td>\n",
       "      <td>862</td>\n",
       "      <td>Toy Story</td>\n",
       "      <td>[tomhanks, timallen, donrickles]</td>\n",
       "      <td>johnlasseter</td>\n",
       "      <td>[jealousy, toy, boy]</td>\n",
       "    </tr>\n",
       "  </tbody>\n",
       "</table>\n",
       "</div>"
      ],
      "text/plain": [
       "                        genres   id      title  \\\n",
       "0  [animation, comedy, family]  862  Toy Story   \n",
       "\n",
       "                               cast          crew              keywords  \n",
       "0  [tomhanks, timallen, donrickles]  johnlasseter  [jealousy, toy, boy]  "
      ]
     },
     "execution_count": 48,
     "metadata": {},
     "output_type": "execute_result"
    }
   ],
   "source": [
    "new_movies.head(1)"
   ]
  },
  {
   "cell_type": "code",
   "execution_count": 49,
   "id": "e4ffaccd",
   "metadata": {},
   "outputs": [],
   "source": [
    "def create_tags(x):\n",
    "    return ' '.join(x['keywords']) + ' ' + ' '.join(x['cast']) + ' ' + x['crew'] + ' ' + ' '.join(x['genres'])"
   ]
  },
  {
   "cell_type": "code",
   "execution_count": 50,
   "id": "112f5c91",
   "metadata": {},
   "outputs": [],
   "source": [
    "new_movies['tags'] = new_movies.apply(create_tags, axis=1)"
   ]
  },
  {
   "cell_type": "code",
   "execution_count": 51,
   "id": "191a5872",
   "metadata": {},
   "outputs": [
    {
     "data": {
      "text/html": [
       "<div>\n",
       "<style scoped>\n",
       "    .dataframe tbody tr th:only-of-type {\n",
       "        vertical-align: middle;\n",
       "    }\n",
       "\n",
       "    .dataframe tbody tr th {\n",
       "        vertical-align: top;\n",
       "    }\n",
       "\n",
       "    .dataframe thead th {\n",
       "        text-align: right;\n",
       "    }\n",
       "</style>\n",
       "<table border=\"1\" class=\"dataframe\">\n",
       "  <thead>\n",
       "    <tr style=\"text-align: right;\">\n",
       "      <th></th>\n",
       "      <th>genres</th>\n",
       "      <th>id</th>\n",
       "      <th>title</th>\n",
       "      <th>cast</th>\n",
       "      <th>crew</th>\n",
       "      <th>keywords</th>\n",
       "      <th>tags</th>\n",
       "    </tr>\n",
       "  </thead>\n",
       "  <tbody>\n",
       "    <tr>\n",
       "      <th>0</th>\n",
       "      <td>[animation, comedy, family]</td>\n",
       "      <td>862</td>\n",
       "      <td>Toy Story</td>\n",
       "      <td>[tomhanks, timallen, donrickles]</td>\n",
       "      <td>johnlasseter</td>\n",
       "      <td>[jealousy, toy, boy]</td>\n",
       "      <td>jealousy toy boy tomhanks timallen donrickles ...</td>\n",
       "    </tr>\n",
       "  </tbody>\n",
       "</table>\n",
       "</div>"
      ],
      "text/plain": [
       "                        genres   id      title  \\\n",
       "0  [animation, comedy, family]  862  Toy Story   \n",
       "\n",
       "                               cast          crew              keywords  \\\n",
       "0  [tomhanks, timallen, donrickles]  johnlasseter  [jealousy, toy, boy]   \n",
       "\n",
       "                                                tags  \n",
       "0  jealousy toy boy tomhanks timallen donrickles ...  "
      ]
     },
     "execution_count": 51,
     "metadata": {},
     "output_type": "execute_result"
    }
   ],
   "source": [
    "new_movies.head(1)"
   ]
  },
  {
   "cell_type": "code",
   "execution_count": 52,
   "id": "39f7aa8b",
   "metadata": {},
   "outputs": [],
   "source": [
    "new_movies = new_movies[['id','title','tags']]"
   ]
  },
  {
   "cell_type": "code",
   "execution_count": 53,
   "id": "bd2145c8",
   "metadata": {},
   "outputs": [
    {
     "data": {
      "text/html": [
       "<div>\n",
       "<style scoped>\n",
       "    .dataframe tbody tr th:only-of-type {\n",
       "        vertical-align: middle;\n",
       "    }\n",
       "\n",
       "    .dataframe tbody tr th {\n",
       "        vertical-align: top;\n",
       "    }\n",
       "\n",
       "    .dataframe thead th {\n",
       "        text-align: right;\n",
       "    }\n",
       "</style>\n",
       "<table border=\"1\" class=\"dataframe\">\n",
       "  <thead>\n",
       "    <tr style=\"text-align: right;\">\n",
       "      <th></th>\n",
       "      <th>id</th>\n",
       "      <th>title</th>\n",
       "      <th>tags</th>\n",
       "    </tr>\n",
       "  </thead>\n",
       "  <tbody>\n",
       "    <tr>\n",
       "      <th>0</th>\n",
       "      <td>862</td>\n",
       "      <td>Toy Story</td>\n",
       "      <td>jealousy toy boy tomhanks timallen donrickles ...</td>\n",
       "    </tr>\n",
       "    <tr>\n",
       "      <th>1</th>\n",
       "      <td>8844</td>\n",
       "      <td>Jumanji</td>\n",
       "      <td>boardgame disappearance basedonchildren'sbook ...</td>\n",
       "    </tr>\n",
       "    <tr>\n",
       "      <th>2</th>\n",
       "      <td>15602</td>\n",
       "      <td>Grumpier Old Men</td>\n",
       "      <td>fishing bestfriend duringcreditsstinger walter...</td>\n",
       "    </tr>\n",
       "    <tr>\n",
       "      <th>3</th>\n",
       "      <td>31357</td>\n",
       "      <td>Waiting to Exhale</td>\n",
       "      <td>basedonnovel interracialrelationship singlemot...</td>\n",
       "    </tr>\n",
       "    <tr>\n",
       "      <th>4</th>\n",
       "      <td>11862</td>\n",
       "      <td>Father of the Bride Part II</td>\n",
       "      <td>baby midlifecrisis confidence stevemartin dian...</td>\n",
       "    </tr>\n",
       "    <tr>\n",
       "      <th>5</th>\n",
       "      <td>949</td>\n",
       "      <td>Heat</td>\n",
       "      <td>robbery detective bank alpacino robertdeniro v...</td>\n",
       "    </tr>\n",
       "    <tr>\n",
       "      <th>6</th>\n",
       "      <td>11860</td>\n",
       "      <td>Sabrina</td>\n",
       "      <td>paris brotherbrotherrelationship chauffeur har...</td>\n",
       "    </tr>\n",
       "    <tr>\n",
       "      <th>7</th>\n",
       "      <td>45325</td>\n",
       "      <td>Tom and Huck</td>\n",
       "      <td>jonathantaylorthomas bradrenfro rachaelleighc...</td>\n",
       "    </tr>\n",
       "    <tr>\n",
       "      <th>8</th>\n",
       "      <td>9091</td>\n",
       "      <td>Sudden Death</td>\n",
       "      <td>terrorist hostage explosive jean-claudevandamm...</td>\n",
       "    </tr>\n",
       "    <tr>\n",
       "      <th>9</th>\n",
       "      <td>710</td>\n",
       "      <td>GoldenEye</td>\n",
       "      <td>cuba falselyaccused secretidentity piercebrosn...</td>\n",
       "    </tr>\n",
       "  </tbody>\n",
       "</table>\n",
       "</div>"
      ],
      "text/plain": [
       "      id                        title  \\\n",
       "0    862                    Toy Story   \n",
       "1   8844                      Jumanji   \n",
       "2  15602             Grumpier Old Men   \n",
       "3  31357            Waiting to Exhale   \n",
       "4  11862  Father of the Bride Part II   \n",
       "5    949                         Heat   \n",
       "6  11860                      Sabrina   \n",
       "7  45325                 Tom and Huck   \n",
       "8   9091                 Sudden Death   \n",
       "9    710                    GoldenEye   \n",
       "\n",
       "                                                tags  \n",
       "0  jealousy toy boy tomhanks timallen donrickles ...  \n",
       "1  boardgame disappearance basedonchildren'sbook ...  \n",
       "2  fishing bestfriend duringcreditsstinger walter...  \n",
       "3  basedonnovel interracialrelationship singlemot...  \n",
       "4  baby midlifecrisis confidence stevemartin dian...  \n",
       "5  robbery detective bank alpacino robertdeniro v...  \n",
       "6  paris brotherbrotherrelationship chauffeur har...  \n",
       "7   jonathantaylorthomas bradrenfro rachaelleighc...  \n",
       "8  terrorist hostage explosive jean-claudevandamm...  \n",
       "9  cuba falselyaccused secretidentity piercebrosn...  "
      ]
     },
     "execution_count": 53,
     "metadata": {},
     "output_type": "execute_result"
    }
   ],
   "source": [
    "new_movies.head(10)"
   ]
  },
  {
   "cell_type": "code",
   "execution_count": 54,
   "id": "5ff91ccc",
   "metadata": {},
   "outputs": [
    {
     "data": {
      "text/plain": [
       "(6000, 3)"
      ]
     },
     "execution_count": 54,
     "metadata": {},
     "output_type": "execute_result"
    }
   ],
   "source": [
    "new_movies.shape"
   ]
  },
  {
   "cell_type": "code",
   "execution_count": 55,
   "id": "b7933463",
   "metadata": {},
   "outputs": [],
   "source": [
    "from sklearn.feature_extraction.text import CountVectorizer\n",
    "\n",
    "count = CountVectorizer(stop_words='english')\n",
    "count_matrix = count.fit_transform(new_movies['tags'])"
   ]
  },
  {
   "cell_type": "code",
   "execution_count": 56,
   "id": "42f9d6e6",
   "metadata": {},
   "outputs": [
    {
     "data": {
      "text/plain": [
       "(6000, 13842)"
      ]
     },
     "execution_count": 56,
     "metadata": {},
     "output_type": "execute_result"
    }
   ],
   "source": [
    "count_matrix.shape"
   ]
  },
  {
   "cell_type": "code",
   "execution_count": 57,
   "id": "c385f498",
   "metadata": {},
   "outputs": [],
   "source": [
    "from sklearn.metrics.pairwise import cosine_similarity\n",
    "\n",
    "cosine_sim2 = cosine_similarity(count_matrix)"
   ]
  },
  {
   "cell_type": "code",
   "execution_count": 58,
   "id": "e4470d5f",
   "metadata": {},
   "outputs": [
    {
     "data": {
      "text/plain": [
       "array([0.09534626, 1.        , 0.        , ..., 0.        , 0.        ,\n",
       "       0.        ])"
      ]
     },
     "execution_count": 58,
     "metadata": {},
     "output_type": "execute_result"
    }
   ],
   "source": [
    "cosine_sim2[1]"
   ]
  },
  {
   "cell_type": "code",
   "execution_count": 59,
   "id": "402fc9a7",
   "metadata": {},
   "outputs": [],
   "source": [
    "def recommend(movie):\n",
    "    movie_index = new_movies[new_movies['title'] == movie].index[0]\n",
    "    distances = cosine_sim2[movie_index]\n",
    "    movies_list = sorted(list(enumerate(distances)),reverse=True,key=lambda x:x[1])[1:11]\n",
    "    \n",
    "    for i in movies_list:\n",
    "        print(i[0], new_movies.iloc[i[0]].title)"
   ]
  },
  {
   "cell_type": "code",
   "execution_count": 60,
   "id": "cd3a6844",
   "metadata": {},
   "outputs": [
    {
     "name": "stdout",
     "output_type": "stream",
     "text": [
      "2208 History of the World: Part I\n",
      "2943 Spaceballs\n",
      "3527 The Twelve Chairs\n",
      "515 Robin Hood: Men in Tights\n",
      "2207 The Producers\n",
      "365 The Naked Gun 33⅓: The Final Insult\n",
      "732 Spy Hard\n",
      "1254 Young Frankenstein\n",
      "3576 Blazing Saddles\n",
      "3772 The Naked Gun 2½: The Smell of Fear\n"
     ]
    }
   ],
   "source": [
    "recommend('Dracula: Dead and Loving It')"
   ]
  },
  {
   "cell_type": "code",
   "execution_count": 61,
   "id": "6372dfe2",
   "metadata": {},
   "outputs": [
    {
     "name": "stdout",
     "output_type": "stream",
     "text": [
      "1934 The Godfather: Part III\n",
      "841 The Godfather\n",
      "5793 True Confessions\n",
      "1186 Apocalypse Now\n",
      "1648 Ill Gotten Gains\n",
      "3331 Do the Right Thing\n",
      "3487 Jails, Hospitals & Hip-Hop\n",
      "5 Heat\n",
      "426 Carlito's Way\n",
      "1084 Glengarry Glen Ross\n"
     ]
    }
   ],
   "source": [
    "recommend('The Godfather: Part II')"
   ]
  },
  {
   "cell_type": "code",
   "execution_count": null,
   "id": "c6d6fd1d",
   "metadata": {},
   "outputs": [],
   "source": []
  }
 ],
 "metadata": {
  "kernelspec": {
   "display_name": "Python 3",
   "language": "python",
   "name": "python3"
  },
  "language_info": {
   "codemirror_mode": {
    "name": "ipython",
    "version": 3
   },
   "file_extension": ".py",
   "mimetype": "text/x-python",
   "name": "python",
   "nbconvert_exporter": "python",
   "pygments_lexer": "ipython3",
   "version": "3.8.8"
  }
 },
 "nbformat": 4,
 "nbformat_minor": 5
}
